{
 "cells": [
  {
   "cell_type": "markdown",
   "metadata": {},
   "source": [
    "[![imagenes](imagenes/source.gif)](https://www.youtube.com/watch?v=lc5JJTQa4r8)"
   ]
  },
  {
   "cell_type": "markdown",
   "metadata": {},
   "source": [
    "# Introducción.\n",
    "\n",
    "[Python](http://python.org) es un lenguaje de programación de __alto nivel, interactivo e interpretado__, creado por Guido Van Rossum en 1991. El nombre del lenguaje es en honor al programa cómico de la televisión británica llamado “Monty Python Flying Circus”.\n",
    "\n",
    "Es de __código abierto__, __multi-plataforma y se adecua a diversos paradigmas de programación__ (programación funcional, programación orientada a objetos, programación procesal, etc.).\n",
    "\n",
    "Python se ha vuelto __muy popular__ ya sea como un primer lenguaje de programación o como el lenguaje seleccionado por defecto por diversos proyectos de primer nivel tales como Openstack, Blender, Google App Engine, Django, Jupyter, etc."
   ]
  },
  {
   "cell_type": "markdown",
   "metadata": {},
   "source": [
    "[![imagenes](imagenes/code-to-machine.png)](https://www.youtube.com/watch?v=TiQ7aug-GwI)"
   ]
  },
  {
   "cell_type": "markdown",
   "metadata": {},
   "source": [
    "## Características de Python.\n",
    "\n",
    "A lo largo de estos cursos se explorarán y aprovecharán las características que hacen de Python un lenguaje tan popular y poderoso.\n",
    "\n",
    "* Sintaxis muy clara y legible: Similar a Matlab o Fortran.\n",
    "* Plataforma independiente open-source(codigo abierto) y libre.\n",
    "* Fuerte capacidad de aprendizaje.\n",
    "* Robusta forma de analisis de datos, los usurios son libres de realizar las funciones que les interese.\n",
    "* Orientación a objetos.\n",
    "* Tipos de datos dinámicos de muy alto nivel cientifico.\n",
    "* Extensa [biblioteca estándar](https://docs.python.org/3/library/) (STL) y módulos de terceros para prácticamente todas las tareas.\n"
   ]
  },
  {
   "cell_type": "markdown",
   "metadata": {},
   "source": [
    "[![imagenes](imagenes/python_objetos_2.png)](https://www.youtube.com/watch?v=QMOadtGpwlw)"
   ]
  },
  {
   "cell_type": "markdown",
   "metadata": {},
   "source": [
    "## Aplicaciones de Python.\n",
    "\n",
    "Al ser un lenguaje multipropósito y altamente portable, Python se ha utilizado para desarrollar:\n",
    "\n",
    "* Aplicaciones de escritorio.\n",
    "* Aplicaciones web.\n",
    "* Análisis de datos.\n",
    "* Administración de servidores.\n",
    "* Seguridad y análisis de penetración.\n",
    "* Cómputo en la nube.\n",
    "* Cómputo científico.\n",
    "* __Análisis de lenguaje natural.__\n",
    "* Inteligencia artificial.\n",
    "* Animación, videojuegos e imágenes generadas por computadora.\n",
    "* Aplicaciones móviles.\n",
    "* DevOps."
   ]
  },
  {
   "cell_type": "markdown",
   "metadata": {},
   "source": [
    "[![imagenes](imagenes/python.png)](https://www.youtube.com/watch?v=ZBA7ZWy0reg)"
   ]
  },
  {
   "cell_type": "markdown",
   "metadata": {},
   "source": [
    "## Ventajas\n",
    "\n",
    "* Sintaxis concisa para arrays y no-arrays nos permite tener un programa mas claro\n",
    "* Lenguaje interpretado hace el desarrollo mas facil.\n",
    "* Programacion orientado a objetos hace el codigo mas robusto\n",
    "* Conjunto de datos internos son muy faciles de manejar y proveen de herramientas de alta competencia.\n",
    "* Gran cantidad de usuarios y desarrolladores en la industria como en ciencia.\n",
    "\n",
    "## Desventajas\n",
    "\n",
    "* Corre mucho mas lento que codigo compilado (pero hay herramientas para superar con creces este aspecto)\n",
    "* Librerias y multiples versiones pueden entra en conflictos ( esto se puede evitar con el correcto uso de ambientes de desarrollo)."
   ]
  },
  {
   "cell_type": "markdown",
   "metadata": {},
   "source": [
    "# Ejemplos\n",
    "## Teledeteccion MODIS\n",
    "![imagenes](imagenes/ejm1.jpg)\n",
    "## Analisis de datos\n",
    "### 1\n",
    "![imagenes](imagenes/ejm2.jpg)\n",
    "\n",
    "### 2\n",
    "![imagenes](imagenes/comp4.png)\n",
    "\n",
    "### 3\n",
    "![imagenes](imagenes/img1.1.png)\n",
    "### 4\n",
    "![imagenes](imagenes/img3.png)\n",
    "### 5\n",
    "![imagenes](imagenes/PH1.png)\n",
    "## Teledeteccion Goes 16\n",
    "![imagenes](imagenes/ejm3.jpg)\n",
    "## Teledeteccion Global\n",
    "![imagenes](imagenes/ejm4.jpg)"
   ]
  },
  {
   "cell_type": "markdown",
   "metadata": {},
   "source": [
    "## Instalación.\n",
    "\n",
    "Las principales distribuciones de GNU/Linux, los sistemas \\*BSD, así como Mac OS X y la mayoría de los UNIX vienen al menos con Python 2 preinstalado. Del mismo modo, las principales distribuciones de GNU/Linux cuentan con paquetes de instalación de Python 3.\n",
    "\n",
    "Las versiones más recientes de Python pueden ser descargadas desde el sitio principal, https://python.org, incluyendo binarios para Mac OS X y Windows e incluso es posible descargar el código fuente.\n",
    "\n",
    "**Nota:** [Anaconda](https://www.anaconda.com/distribution/) es una distribución de Python 2 y Python 3 especializada en cómputo científico, sin embargo es de muy fácil instalación y gestión tanto en Windows como en Mac OS X y GNU/Linux. Es una alternativa muy recomendable a las versiones oficiales de Python."
   ]
  },
  {
   "cell_type": "markdown",
   "metadata": {},
   "source": [
    "[![imagenes](imagenes/serp.jpg).](https://www.anaconda.com/products/individual#windows)"
   ]
  },
  {
   "cell_type": "markdown",
   "metadata": {},
   "source": [
    "### En la notebook de Jupyter.\n",
    "\n",
    "Las notebooks de Jupyter funcionan mediante *kernels* los cuales son conexiones a un intérprete del lenguaje correspondiente.\n",
    "\n",
    "Para ejecutar un comando de Python en una notebook de Jupyter con el kernel de Python 3, sólo es necesario escribir el código en una terminal de tipo ```Code``` y ejecutarla."
   ]
  },
  {
   "cell_type": "markdown",
   "metadata": {},
   "source": [
    "**Ejemplo:**"
   ]
  },
  {
   "cell_type": "code",
   "execution_count": 1,
   "metadata": {},
   "outputs": [
    {
     "name": "stdout",
     "output_type": "stream",
     "text": [
      "La clase 1\n"
     ]
    }
   ],
   "source": [
    " print(\"La clase 1\")"
   ]
  },
  {
   "cell_type": "markdown",
   "metadata": {},
   "source": [
    "### Ejecución de scripts.\n",
    "\n",
    "Los scripts de Python son archivos de texto que contienen código que será leído y ejecutado por el intérprete de Python. Dichos archivos tiene la extensión ```.py```. Algunos editores de texto cuentan con reconocimiento de la sintaxis de Python y utilizan colores para identificar sus componentes."
   ]
  },
  {
   "cell_type": "markdown",
   "metadata": {},
   "source": [
    "#### Por ejemplo , generamos un script ```suma.py```.\n",
    "\n",
    "El documento  [```codigo/suma.py```](codigo/suma.py)que contendra el siguiente código.\n",
    "\n",
    "``` python\n",
    "#!/usr/bin/env python                                                     \n",
    "print(\"Suma\",5+4)\n",
    "```"
   ]
  },
  {
   "cell_type": "markdown",
   "metadata": {},
   "source": [
    "**Ejecutamos desde Jupyter:**"
   ]
  },
  {
   "cell_type": "markdown",
   "metadata": {},
   "source": [
    "Las notebooks de Jupyter permiten enviar comandos al sistema anteponiendio un signo de admiración ```!``` antes del comando."
   ]
  },
  {
   "cell_type": "markdown",
   "metadata": {},
   "source": [
    "* La siguiente celda ejecutará el script ```codigo/suma.py```usando el intérprete de Python.\n",
    "\n",
    "**Nota:** La celda sólo se ejecutará si el intérprete de Python esté en una ruta por defecto del sistema. En algunos casos el intérprete es ```python3```."
   ]
  },
  {
   "cell_type": "code",
   "execution_count": 2,
   "metadata": {},
   "outputs": [
    {
     "name": "stdout",
     "output_type": "stream",
     "text": [
      "python: can't open file 'codigo/Suma.py': [Errno 2] No such file or directory\r\n"
     ]
    }
   ],
   "source": [
    "!python codigo/Suma.py"
   ]
  },
  {
   "cell_type": "markdown",
   "metadata": {},
   "source": [
    "#### Ejecución de un script en Jupyter.\n",
    "Jupyter puede ejecutar scripts mediante el \"comando mágico\" ```%run```.\n"
   ]
  },
  {
   "cell_type": "code",
   "execution_count": 3,
   "metadata": {
    "scrolled": true
   },
   "outputs": [
    {
     "name": "stdout",
     "output_type": "stream",
     "text": [
      "Buenas tardes clase\n"
     ]
    }
   ],
   "source": [
    "%run codigo/ejemploprint.py"
   ]
  },
  {
   "cell_type": "markdown",
   "metadata": {},
   "source": [
    "## Primera clase concluida\n",
    "[![imagenes](imagenes/goku.jpg)](https://www.youtube.com/watch?v=XkkYPF6YzIo)\n"
   ]
  },
  {
   "cell_type": "code",
   "execution_count": null,
   "metadata": {},
   "outputs": [],
   "source": []
  }
 ],
 "metadata": {
  "kernelspec": {
   "display_name": "Python 3",
   "language": "python",
   "name": "python3"
  },
  "language_info": {
   "codemirror_mode": {
    "name": "ipython",
    "version": 3
   },
   "file_extension": ".py",
   "mimetype": "text/x-python",
   "name": "python",
   "nbconvert_exporter": "python",
   "pygments_lexer": "ipython3",
   "version": "3.7.3"
  }
 },
 "nbformat": 4,
 "nbformat_minor": 1
}
